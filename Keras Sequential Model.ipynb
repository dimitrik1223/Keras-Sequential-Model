{
 "cells": [
  {
   "cell_type": "code",
   "execution_count": 1,
   "id": "c29ebb70",
   "metadata": {},
   "outputs": [],
   "source": [
    "import os\n",
    "import pandas as pd\n",
    "import numpy as np\n",
    "from sklearn.model_selection import train_test_split\n",
    "import tensorflow as tf\n",
    "from tensorflow import keras\n",
    "from sklearn import metrics\n",
    "from sklearn.linear_model import LogisticRegression\n",
    "from sklearn.tree import DecisionTreeClassifier\n",
    "from sklearn.ensemble import RandomForestClassifier\n",
    "from sklearn.naive_bayes import GaussianNB\n",
    "from sklearn.ensemble import AdaBoostClassifier"
   ]
  },
  {
   "cell_type": "markdown",
   "id": "0f6e62e3",
   "metadata": {},
   "source": [
    "I created this notebook to apply some learning material from a ML course I'm in. The data used does not warrant the use of a neural network. The model is only applied for learning purposes."
   ]
  },
  {
   "cell_type": "code",
   "execution_count": 2,
   "id": "f1323b57",
   "metadata": {},
   "outputs": [],
   "source": [
    "keras.Sequential?"
   ]
  },
  {
   "cell_type": "code",
   "execution_count": 3,
   "id": "01969c3c",
   "metadata": {
    "scrolled": true
   },
   "outputs": [
    {
     "data": {
      "text/plain": [
       "'C:\\\\Users\\\\dkestenbaum\\\\Desktop\\\\Keras Model Sequential'"
      ]
     },
     "execution_count": 3,
     "metadata": {},
     "output_type": "execute_result"
    }
   ],
   "source": [
    "os.getcwd()"
   ]
  },
  {
   "cell_type": "code",
   "execution_count": 4,
   "id": "d4d91c28",
   "metadata": {},
   "outputs": [],
   "source": [
    "#read in bankruptcy_prediction data\n",
    "bank_df = pd.read_csv('data/bankruptcy_prediction/data.csv')"
   ]
  },
  {
   "cell_type": "code",
   "execution_count": 5,
   "id": "ecf6ba6c",
   "metadata": {
    "scrolled": true
   },
   "outputs": [
    {
     "data": {
      "text/html": [
       "<div>\n",
       "<style scoped>\n",
       "    .dataframe tbody tr th:only-of-type {\n",
       "        vertical-align: middle;\n",
       "    }\n",
       "\n",
       "    .dataframe tbody tr th {\n",
       "        vertical-align: top;\n",
       "    }\n",
       "\n",
       "    .dataframe thead th {\n",
       "        text-align: right;\n",
       "    }\n",
       "</style>\n",
       "<table border=\"1\" class=\"dataframe\">\n",
       "  <thead>\n",
       "    <tr style=\"text-align: right;\">\n",
       "      <th></th>\n",
       "      <th>Bankrupt?</th>\n",
       "      <th>ROA(C) before interest and depreciation before interest</th>\n",
       "      <th>ROA(A) before interest and % after tax</th>\n",
       "      <th>ROA(B) before interest and depreciation after tax</th>\n",
       "      <th>Operating Gross Margin</th>\n",
       "      <th>Realized Sales Gross Margin</th>\n",
       "      <th>Operating Profit Rate</th>\n",
       "      <th>Pre-tax net Interest Rate</th>\n",
       "      <th>After-tax net Interest Rate</th>\n",
       "      <th>Non-industry income and expenditure/revenue</th>\n",
       "      <th>...</th>\n",
       "      <th>Net Income to Total Assets</th>\n",
       "      <th>Total assets to GNP price</th>\n",
       "      <th>No-credit Interval</th>\n",
       "      <th>Gross Profit to Sales</th>\n",
       "      <th>Net Income to Stockholder's Equity</th>\n",
       "      <th>Liability to Equity</th>\n",
       "      <th>Degree of Financial Leverage (DFL)</th>\n",
       "      <th>Interest Coverage Ratio (Interest expense to EBIT)</th>\n",
       "      <th>Net Income Flag</th>\n",
       "      <th>Equity to Liability</th>\n",
       "    </tr>\n",
       "  </thead>\n",
       "  <tbody>\n",
       "    <tr>\n",
       "      <th>0</th>\n",
       "      <td>1</td>\n",
       "      <td>0.370594</td>\n",
       "      <td>0.424389</td>\n",
       "      <td>0.405750</td>\n",
       "      <td>0.601457</td>\n",
       "      <td>0.601457</td>\n",
       "      <td>0.998969</td>\n",
       "      <td>0.796887</td>\n",
       "      <td>0.808809</td>\n",
       "      <td>0.302646</td>\n",
       "      <td>...</td>\n",
       "      <td>0.716845</td>\n",
       "      <td>0.009219</td>\n",
       "      <td>0.622879</td>\n",
       "      <td>0.601453</td>\n",
       "      <td>0.827890</td>\n",
       "      <td>0.290202</td>\n",
       "      <td>0.026601</td>\n",
       "      <td>0.564050</td>\n",
       "      <td>1</td>\n",
       "      <td>0.016469</td>\n",
       "    </tr>\n",
       "    <tr>\n",
       "      <th>1</th>\n",
       "      <td>1</td>\n",
       "      <td>0.464291</td>\n",
       "      <td>0.538214</td>\n",
       "      <td>0.516730</td>\n",
       "      <td>0.610235</td>\n",
       "      <td>0.610235</td>\n",
       "      <td>0.998946</td>\n",
       "      <td>0.797380</td>\n",
       "      <td>0.809301</td>\n",
       "      <td>0.303556</td>\n",
       "      <td>...</td>\n",
       "      <td>0.795297</td>\n",
       "      <td>0.008323</td>\n",
       "      <td>0.623652</td>\n",
       "      <td>0.610237</td>\n",
       "      <td>0.839969</td>\n",
       "      <td>0.283846</td>\n",
       "      <td>0.264577</td>\n",
       "      <td>0.570175</td>\n",
       "      <td>1</td>\n",
       "      <td>0.020794</td>\n",
       "    </tr>\n",
       "    <tr>\n",
       "      <th>2</th>\n",
       "      <td>1</td>\n",
       "      <td>0.426071</td>\n",
       "      <td>0.499019</td>\n",
       "      <td>0.472295</td>\n",
       "      <td>0.601450</td>\n",
       "      <td>0.601364</td>\n",
       "      <td>0.998857</td>\n",
       "      <td>0.796403</td>\n",
       "      <td>0.808388</td>\n",
       "      <td>0.302035</td>\n",
       "      <td>...</td>\n",
       "      <td>0.774670</td>\n",
       "      <td>0.040003</td>\n",
       "      <td>0.623841</td>\n",
       "      <td>0.601449</td>\n",
       "      <td>0.836774</td>\n",
       "      <td>0.290189</td>\n",
       "      <td>0.026555</td>\n",
       "      <td>0.563706</td>\n",
       "      <td>1</td>\n",
       "      <td>0.016474</td>\n",
       "    </tr>\n",
       "    <tr>\n",
       "      <th>3</th>\n",
       "      <td>1</td>\n",
       "      <td>0.399844</td>\n",
       "      <td>0.451265</td>\n",
       "      <td>0.457733</td>\n",
       "      <td>0.583541</td>\n",
       "      <td>0.583541</td>\n",
       "      <td>0.998700</td>\n",
       "      <td>0.796967</td>\n",
       "      <td>0.808966</td>\n",
       "      <td>0.303350</td>\n",
       "      <td>...</td>\n",
       "      <td>0.739555</td>\n",
       "      <td>0.003252</td>\n",
       "      <td>0.622929</td>\n",
       "      <td>0.583538</td>\n",
       "      <td>0.834697</td>\n",
       "      <td>0.281721</td>\n",
       "      <td>0.026697</td>\n",
       "      <td>0.564663</td>\n",
       "      <td>1</td>\n",
       "      <td>0.023982</td>\n",
       "    </tr>\n",
       "    <tr>\n",
       "      <th>4</th>\n",
       "      <td>1</td>\n",
       "      <td>0.465022</td>\n",
       "      <td>0.538432</td>\n",
       "      <td>0.522298</td>\n",
       "      <td>0.598783</td>\n",
       "      <td>0.598783</td>\n",
       "      <td>0.998973</td>\n",
       "      <td>0.797366</td>\n",
       "      <td>0.809304</td>\n",
       "      <td>0.303475</td>\n",
       "      <td>...</td>\n",
       "      <td>0.795016</td>\n",
       "      <td>0.003878</td>\n",
       "      <td>0.623521</td>\n",
       "      <td>0.598782</td>\n",
       "      <td>0.839973</td>\n",
       "      <td>0.278514</td>\n",
       "      <td>0.024752</td>\n",
       "      <td>0.575617</td>\n",
       "      <td>1</td>\n",
       "      <td>0.035490</td>\n",
       "    </tr>\n",
       "  </tbody>\n",
       "</table>\n",
       "<p>5 rows × 96 columns</p>\n",
       "</div>"
      ],
      "text/plain": [
       "   Bankrupt?   ROA(C) before interest and depreciation before interest  \\\n",
       "0          1                                           0.370594          \n",
       "1          1                                           0.464291          \n",
       "2          1                                           0.426071          \n",
       "3          1                                           0.399844          \n",
       "4          1                                           0.465022          \n",
       "\n",
       "    ROA(A) before interest and % after tax  \\\n",
       "0                                 0.424389   \n",
       "1                                 0.538214   \n",
       "2                                 0.499019   \n",
       "3                                 0.451265   \n",
       "4                                 0.538432   \n",
       "\n",
       "    ROA(B) before interest and depreciation after tax  \\\n",
       "0                                           0.405750    \n",
       "1                                           0.516730    \n",
       "2                                           0.472295    \n",
       "3                                           0.457733    \n",
       "4                                           0.522298    \n",
       "\n",
       "    Operating Gross Margin   Realized Sales Gross Margin  \\\n",
       "0                 0.601457                      0.601457   \n",
       "1                 0.610235                      0.610235   \n",
       "2                 0.601450                      0.601364   \n",
       "3                 0.583541                      0.583541   \n",
       "4                 0.598783                      0.598783   \n",
       "\n",
       "    Operating Profit Rate   Pre-tax net Interest Rate  \\\n",
       "0                0.998969                    0.796887   \n",
       "1                0.998946                    0.797380   \n",
       "2                0.998857                    0.796403   \n",
       "3                0.998700                    0.796967   \n",
       "4                0.998973                    0.797366   \n",
       "\n",
       "    After-tax net Interest Rate   Non-industry income and expenditure/revenue  \\\n",
       "0                      0.808809                                      0.302646   \n",
       "1                      0.809301                                      0.303556   \n",
       "2                      0.808388                                      0.302035   \n",
       "3                      0.808966                                      0.303350   \n",
       "4                      0.809304                                      0.303475   \n",
       "\n",
       "   ...   Net Income to Total Assets   Total assets to GNP price  \\\n",
       "0  ...                     0.716845                    0.009219   \n",
       "1  ...                     0.795297                    0.008323   \n",
       "2  ...                     0.774670                    0.040003   \n",
       "3  ...                     0.739555                    0.003252   \n",
       "4  ...                     0.795016                    0.003878   \n",
       "\n",
       "    No-credit Interval   Gross Profit to Sales  \\\n",
       "0             0.622879                0.601453   \n",
       "1             0.623652                0.610237   \n",
       "2             0.623841                0.601449   \n",
       "3             0.622929                0.583538   \n",
       "4             0.623521                0.598782   \n",
       "\n",
       "    Net Income to Stockholder's Equity   Liability to Equity  \\\n",
       "0                             0.827890              0.290202   \n",
       "1                             0.839969              0.283846   \n",
       "2                             0.836774              0.290189   \n",
       "3                             0.834697              0.281721   \n",
       "4                             0.839973              0.278514   \n",
       "\n",
       "    Degree of Financial Leverage (DFL)  \\\n",
       "0                             0.026601   \n",
       "1                             0.264577   \n",
       "2                             0.026555   \n",
       "3                             0.026697   \n",
       "4                             0.024752   \n",
       "\n",
       "    Interest Coverage Ratio (Interest expense to EBIT)   Net Income Flag  \\\n",
       "0                                           0.564050                   1   \n",
       "1                                           0.570175                   1   \n",
       "2                                           0.563706                   1   \n",
       "3                                           0.564663                   1   \n",
       "4                                           0.575617                   1   \n",
       "\n",
       "    Equity to Liability  \n",
       "0              0.016469  \n",
       "1              0.020794  \n",
       "2              0.016474  \n",
       "3              0.023982  \n",
       "4              0.035490  \n",
       "\n",
       "[5 rows x 96 columns]"
      ]
     },
     "execution_count": 5,
     "metadata": {},
     "output_type": "execute_result"
    }
   ],
   "source": [
    "bank_df.head()"
   ]
  },
  {
   "cell_type": "code",
   "execution_count": 6,
   "id": "8ff034b5",
   "metadata": {
    "scrolled": false
   },
   "outputs": [
    {
     "name": "stdout",
     "output_type": "stream",
     "text": [
      "<class 'pandas.core.frame.DataFrame'>\n",
      "RangeIndex: 6819 entries, 0 to 6818\n",
      "Data columns (total 96 columns):\n",
      " #   Column                                                    Non-Null Count  Dtype  \n",
      "---  ------                                                    --------------  -----  \n",
      " 0   Bankrupt?                                                 6819 non-null   int64  \n",
      " 1    ROA(C) before interest and depreciation before interest  6819 non-null   float64\n",
      " 2    ROA(A) before interest and % after tax                   6819 non-null   float64\n",
      " 3    ROA(B) before interest and depreciation after tax        6819 non-null   float64\n",
      " 4    Operating Gross Margin                                   6819 non-null   float64\n",
      " 5    Realized Sales Gross Margin                              6819 non-null   float64\n",
      " 6    Operating Profit Rate                                    6819 non-null   float64\n",
      " 7    Pre-tax net Interest Rate                                6819 non-null   float64\n",
      " 8    After-tax net Interest Rate                              6819 non-null   float64\n",
      " 9    Non-industry income and expenditure/revenue              6819 non-null   float64\n",
      " 10   Continuous interest rate (after tax)                     6819 non-null   float64\n",
      " 11   Operating Expense Rate                                   6819 non-null   float64\n",
      " 12   Research and development expense rate                    6819 non-null   float64\n",
      " 13   Cash flow rate                                           6819 non-null   float64\n",
      " 14   Interest-bearing debt interest rate                      6819 non-null   float64\n",
      " 15   Tax rate (A)                                             6819 non-null   float64\n",
      " 16   Net Value Per Share (B)                                  6819 non-null   float64\n",
      " 17   Net Value Per Share (A)                                  6819 non-null   float64\n",
      " 18   Net Value Per Share (C)                                  6819 non-null   float64\n",
      " 19   Persistent EPS in the Last Four Seasons                  6819 non-null   float64\n",
      " 20   Cash Flow Per Share                                      6819 non-null   float64\n",
      " 21   Revenue Per Share (Yuan ¥)                               6819 non-null   float64\n",
      " 22   Operating Profit Per Share (Yuan ¥)                      6819 non-null   float64\n",
      " 23   Per Share Net profit before tax (Yuan ¥)                 6819 non-null   float64\n",
      " 24   Realized Sales Gross Profit Growth Rate                  6819 non-null   float64\n",
      " 25   Operating Profit Growth Rate                             6819 non-null   float64\n",
      " 26   After-tax Net Profit Growth Rate                         6819 non-null   float64\n",
      " 27   Regular Net Profit Growth Rate                           6819 non-null   float64\n",
      " 28   Continuous Net Profit Growth Rate                        6819 non-null   float64\n",
      " 29   Total Asset Growth Rate                                  6819 non-null   float64\n",
      " 30   Net Value Growth Rate                                    6819 non-null   float64\n",
      " 31   Total Asset Return Growth Rate Ratio                     6819 non-null   float64\n",
      " 32   Cash Reinvestment %                                      6819 non-null   float64\n",
      " 33   Current Ratio                                            6819 non-null   float64\n",
      " 34   Quick Ratio                                              6819 non-null   float64\n",
      " 35   Interest Expense Ratio                                   6819 non-null   float64\n",
      " 36   Total debt/Total net worth                               6819 non-null   float64\n",
      " 37   Debt ratio %                                             6819 non-null   float64\n",
      " 38   Net worth/Assets                                         6819 non-null   float64\n",
      " 39   Long-term fund suitability ratio (A)                     6819 non-null   float64\n",
      " 40   Borrowing dependency                                     6819 non-null   float64\n",
      " 41   Contingent liabilities/Net worth                         6819 non-null   float64\n",
      " 42   Operating profit/Paid-in capital                         6819 non-null   float64\n",
      " 43   Net profit before tax/Paid-in capital                    6819 non-null   float64\n",
      " 44   Inventory and accounts receivable/Net value              6819 non-null   float64\n",
      " 45   Total Asset Turnover                                     6819 non-null   float64\n",
      " 46   Accounts Receivable Turnover                             6819 non-null   float64\n",
      " 47   Average Collection Days                                  6819 non-null   float64\n",
      " 48   Inventory Turnover Rate (times)                          6819 non-null   float64\n",
      " 49   Fixed Assets Turnover Frequency                          6819 non-null   float64\n",
      " 50   Net Worth Turnover Rate (times)                          6819 non-null   float64\n",
      " 51   Revenue per person                                       6819 non-null   float64\n",
      " 52   Operating profit per person                              6819 non-null   float64\n",
      " 53   Allocation rate per person                               6819 non-null   float64\n",
      " 54   Working Capital to Total Assets                          6819 non-null   float64\n",
      " 55   Quick Assets/Total Assets                                6819 non-null   float64\n",
      " 56   Current Assets/Total Assets                              6819 non-null   float64\n",
      " 57   Cash/Total Assets                                        6819 non-null   float64\n",
      " 58   Quick Assets/Current Liability                           6819 non-null   float64\n",
      " 59   Cash/Current Liability                                   6819 non-null   float64\n",
      " 60   Current Liability to Assets                              6819 non-null   float64\n",
      " 61   Operating Funds to Liability                             6819 non-null   float64\n",
      " 62   Inventory/Working Capital                                6819 non-null   float64\n",
      " 63   Inventory/Current Liability                              6819 non-null   float64\n",
      " 64   Current Liabilities/Liability                            6819 non-null   float64\n",
      " 65   Working Capital/Equity                                   6819 non-null   float64\n",
      " 66   Current Liabilities/Equity                               6819 non-null   float64\n",
      " 67   Long-term Liability to Current Assets                    6819 non-null   float64\n",
      " 68   Retained Earnings to Total Assets                        6819 non-null   float64\n",
      " 69   Total income/Total expense                               6819 non-null   float64\n",
      " 70   Total expense/Assets                                     6819 non-null   float64\n",
      " 71   Current Asset Turnover Rate                              6819 non-null   float64\n",
      " 72   Quick Asset Turnover Rate                                6819 non-null   float64\n",
      " 73   Working capitcal Turnover Rate                           6819 non-null   float64\n",
      " 74   Cash Turnover Rate                                       6819 non-null   float64\n",
      " 75   Cash Flow to Sales                                       6819 non-null   float64\n",
      " 76   Fixed Assets to Assets                                   6819 non-null   float64\n",
      " 77   Current Liability to Liability                           6819 non-null   float64\n",
      " 78   Current Liability to Equity                              6819 non-null   float64\n",
      " 79   Equity to Long-term Liability                            6819 non-null   float64\n",
      " 80   Cash Flow to Total Assets                                6819 non-null   float64\n",
      " 81   Cash Flow to Liability                                   6819 non-null   float64\n",
      " 82   CFO to Assets                                            6819 non-null   float64\n",
      " 83   Cash Flow to Equity                                      6819 non-null   float64\n",
      " 84   Current Liability to Current Assets                      6819 non-null   float64\n",
      " 85   Liability-Assets Flag                                    6819 non-null   int64  \n",
      " 86   Net Income to Total Assets                               6819 non-null   float64\n",
      " 87   Total assets to GNP price                                6819 non-null   float64\n",
      " 88   No-credit Interval                                       6819 non-null   float64\n",
      " 89   Gross Profit to Sales                                    6819 non-null   float64\n",
      " 90   Net Income to Stockholder's Equity                       6819 non-null   float64\n",
      " 91   Liability to Equity                                      6819 non-null   float64\n",
      " 92   Degree of Financial Leverage (DFL)                       6819 non-null   float64\n",
      " 93   Interest Coverage Ratio (Interest expense to EBIT)       6819 non-null   float64\n",
      " 94   Net Income Flag                                          6819 non-null   int64  \n",
      " 95   Equity to Liability                                      6819 non-null   float64\n",
      "dtypes: float64(93), int64(3)\n",
      "memory usage: 5.0 MB\n"
     ]
    }
   ],
   "source": [
    "bank_df.info()"
   ]
  },
  {
   "cell_type": "markdown",
   "id": "e3ae82af",
   "metadata": {},
   "source": [
    "# Preprocessing"
   ]
  },
  {
   "cell_type": "code",
   "execution_count": 7,
   "id": "da6b6691",
   "metadata": {},
   "outputs": [],
   "source": [
    "#define X,y \n",
    "X,y = bank_df.iloc[:,1:95],bank_df['Bankrupt?']"
   ]
  },
  {
   "cell_type": "code",
   "execution_count": 8,
   "id": "92382788",
   "metadata": {},
   "outputs": [],
   "source": [
    "#train/test split\n",
    "X_train,X_test,y_train,y_test = train_test_split(X,y,random_state=1, test_size=0.2)"
   ]
  },
  {
   "cell_type": "code",
   "execution_count": 9,
   "id": "c0280a81",
   "metadata": {},
   "outputs": [],
   "source": [
    "# Reshape our vectorized labels\n",
    "#y_train = np.asarray(y_train).astype('float32').reshape((-1,1))\n",
    "#y_test = np.asarray(y_test).astype('float32').reshape((-1,1))"
   ]
  },
  {
   "cell_type": "markdown",
   "id": "f0887ca0",
   "metadata": {},
   "source": [
    "# Keras Sequential Model"
   ]
  },
  {
   "cell_type": "markdown",
   "id": "dc4e14b3",
   "metadata": {},
   "source": [
    "The sequential model is a linear stack of layers. It is constructed by passing layer instances to the constructor."
   ]
  },
  {
   "cell_type": "code",
   "execution_count": 10,
   "id": "f0b71b5e",
   "metadata": {
    "scrolled": true
   },
   "outputs": [
    {
     "name": "stdout",
     "output_type": "stream",
     "text": [
      "Model: \"sequential\"\n",
      "_________________________________________________________________\n",
      " Layer (type)                Output Shape              Param #   \n",
      "=================================================================\n",
      " flatten (Flatten)           (None, 94)                0         \n",
      "                                                                 \n",
      " dense (Dense)               (None, 30)                2850      \n",
      "                                                                 \n",
      " dense_1 (Dense)             (None, 1)                 31        \n",
      "                                                                 \n",
      "=================================================================\n",
      "Total params: 2,881\n",
      "Trainable params: 2,881\n",
      "Non-trainable params: 0\n",
      "_________________________________________________________________\n"
     ]
    }
   ],
   "source": [
    "#fit keras.seqeuntial with one hidden layer with 30 neurons\n",
    "shallow_model = keras.Sequential([\n",
    "    keras.layers.Flatten(input_shape=(94,)), #input shape must be specified\n",
    "    keras.layers.Dense(units=30, activation='relu'),\n",
    "    keras.layers.Dense(units=1,activation='sigmoid')\n",
    "])\n",
    "\n",
    "shallow_model.summary()"
   ]
  },
  {
   "cell_type": "markdown",
   "id": "842c694c",
   "metadata": {},
   "source": [
    "# Compilation"
   ]
  },
  {
   "cell_type": "markdown",
   "id": "4d4f4fe6",
   "metadata": {},
   "source": [
    "Before a model can be trained, the learning process must be defined. The compile method takes three args:\n",
    "* Optimizer: The learning technique \n",
    "* Loss Function: Objective function\n",
    "* Metrics: Keeps tracks of metrics"
   ]
  },
  {
   "cell_type": "code",
   "execution_count": 14,
   "id": "2a489af1",
   "metadata": {},
   "outputs": [],
   "source": [
    "shallow_model.compile(loss='binary_crossentropy', optimizer='rmsprop', metrics=['accuracy'])"
   ]
  },
  {
   "cell_type": "code",
   "execution_count": 15,
   "id": "7e9d3b8b",
   "metadata": {
    "scrolled": true
   },
   "outputs": [
    {
     "name": "stdout",
     "output_type": "stream",
     "text": [
      "Epoch 1/10\n",
      "500/500 [==============================] - 3s 3ms/step - loss: 20956874.0000 - accuracy: 0.9349 - val_loss: 17534178.0000 - val_accuracy: 0.9465\n",
      "Epoch 2/10\n",
      "500/500 [==============================] - 1s 3ms/step - loss: 10676265.0000 - accuracy: 0.9385 - val_loss: 12305956.0000 - val_accuracy: 0.9413\n",
      "Epoch 3/10\n",
      "500/500 [==============================] - 1s 3ms/step - loss: 7815574.0000 - accuracy: 0.9414 - val_loss: 11224654.0000 - val_accuracy: 0.9516\n",
      "Epoch 4/10\n",
      "500/500 [==============================] - 1s 3ms/step - loss: 6510486.0000 - accuracy: 0.9407 - val_loss: 11057544.0000 - val_accuracy: 0.9267\n",
      "Epoch 5/10\n",
      "500/500 [==============================] - 1s 3ms/step - loss: 5818996.0000 - accuracy: 0.9433 - val_loss: 10001498.0000 - val_accuracy: 0.9523\n",
      "Epoch 6/10\n",
      "500/500 [==============================] - 1s 3ms/step - loss: 5889350.0000 - accuracy: 0.9416 - val_loss: 10203514.0000 - val_accuracy: 0.9355\n",
      "Epoch 7/10\n",
      "500/500 [==============================] - 1s 3ms/step - loss: 5677830.5000 - accuracy: 0.9429 - val_loss: 10131980.0000 - val_accuracy: 0.9179\n",
      "Epoch 8/10\n",
      "500/500 [==============================] - 1s 3ms/step - loss: 5082123.5000 - accuracy: 0.9434 - val_loss: 11489755.0000 - val_accuracy: 0.9538\n",
      "Epoch 9/10\n",
      "500/500 [==============================] - 1s 3ms/step - loss: 4689782.5000 - accuracy: 0.9456 - val_loss: 11220656.0000 - val_accuracy: 0.9604\n",
      "Epoch 10/10\n",
      "443/500 [=========================>....] - ETA: 0s - loss: 5071564.0000 - accuracy: 0.9419WARNING:tensorflow:Your input ran out of data; interrupting training. Make sure that your dataset or generator can generate at least `steps_per_epoch * epochs` batches (in this case, 5000 batches). You may need to use the repeat() function when building your dataset.\n",
      "500/500 [==============================] - 1s 3ms/step - loss: 5163030.0000 - accuracy: 0.9403 - val_loss: 9650249.0000 - val_accuracy: 0.9479\n"
     ]
    },
    {
     "data": {
      "text/plain": [
       "<keras.callbacks.History at 0x1eb1d131910>"
      ]
     },
     "execution_count": 15,
     "metadata": {},
     "output_type": "execute_result"
    }
   ],
   "source": [
    "\n",
    " shallow_model.fit(\n",
    "    X_train,y_train, \n",
    "    epochs=10, \n",
    "    steps_per_epoch=500,\n",
    "    shuffle=True,\n",
    "    validation_data=(X_test,y_test), \n",
    "    validation_steps=2)"
   ]
  },
  {
   "cell_type": "code",
   "execution_count": 16,
   "id": "58810319",
   "metadata": {},
   "outputs": [],
   "source": [
    "preds_shallow_mod = (shallow_model.predict(X_test) > 0.5).astype(\"int32\")"
   ]
  },
  {
   "cell_type": "code",
   "execution_count": 17,
   "id": "410c5064",
   "metadata": {
    "scrolled": true
   },
   "outputs": [
    {
     "name": "stdout",
     "output_type": "stream",
     "text": [
      "Model: \"sequential_1\"\n",
      "_________________________________________________________________\n",
      " Layer (type)                Output Shape              Param #   \n",
      "=================================================================\n",
      " flatten_1 (Flatten)         (None, 94)                0         \n",
      "                                                                 \n",
      " dense_2 (Dense)             (None, 50)                4750      \n",
      "                                                                 \n",
      " dense_3 (Dense)             (None, 60)                3060      \n",
      "                                                                 \n",
      " dense_4 (Dense)             (None, 1)                 61        \n",
      "                                                                 \n",
      "=================================================================\n",
      "Total params: 7,871\n",
      "Trainable params: 7,871\n",
      "Non-trainable params: 0\n",
      "_________________________________________________________________\n"
     ]
    }
   ],
   "source": [
    "deeper_model = keras.Sequential([\n",
    "    keras.layers.Flatten(input_shape=(94,)),\n",
    "    keras.layers.Dense(units=50, activation='relu'),\n",
    "    keras.layers.Dense(units=60, activation='relu'),\n",
    "    keras.layers.Dense(units=1, activation='sigmoid'),\n",
    "])\n",
    "\n",
    "deeper_model.summary()"
   ]
  },
  {
   "cell_type": "code",
   "execution_count": 18,
   "id": "86b9c829",
   "metadata": {},
   "outputs": [],
   "source": [
    "deeper_model.compile(loss='binary_crossentropy', optimizer='rmsprop', metrics=['accuracy'])"
   ]
  },
  {
   "cell_type": "code",
   "execution_count": 19,
   "id": "9e9ec7a2",
   "metadata": {
    "scrolled": true
   },
   "outputs": [
    {
     "name": "stdout",
     "output_type": "stream",
     "text": [
      "Epoch 1/10\n",
      "500/500 [==============================] - 3s 4ms/step - loss: 12228739.0000 - accuracy: 0.9384 - val_loss: 8260527.0000 - val_accuracy: 0.9487\n",
      "Epoch 2/10\n",
      "500/500 [==============================] - 1s 3ms/step - loss: 6318598.0000 - accuracy: 0.9407 - val_loss: 7088964.5000 - val_accuracy: 0.9604\n",
      "Epoch 3/10\n",
      "500/500 [==============================] - 1s 3ms/step - loss: 4691603.5000 - accuracy: 0.9449 - val_loss: 6940194.0000 - val_accuracy: 0.9567\n",
      "Epoch 4/10\n",
      "500/500 [==============================] - 1s 3ms/step - loss: 3795578.2500 - accuracy: 0.9451 - val_loss: 4755384.5000 - val_accuracy: 0.9450\n",
      "Epoch 5/10\n",
      "500/500 [==============================] - 1s 3ms/step - loss: 2949282.2500 - accuracy: 0.9453 - val_loss: 5324356.5000 - val_accuracy: 0.9582\n",
      "Epoch 6/10\n",
      "500/500 [==============================] - 1s 3ms/step - loss: 2510466.2500 - accuracy: 0.9425 - val_loss: 3855783.5000 - val_accuracy: 0.9494\n",
      "Epoch 7/10\n",
      "500/500 [==============================] - 1s 3ms/step - loss: 1891817.5000 - accuracy: 0.9484 - val_loss: 4018302.7500 - val_accuracy: 0.9575\n",
      "Epoch 8/10\n",
      "500/500 [==============================] - 1s 3ms/step - loss: 1638146.5000 - accuracy: 0.9513 - val_loss: 3532787.2500 - val_accuracy: 0.9516\n",
      "Epoch 9/10\n",
      "500/500 [==============================] - 1s 3ms/step - loss: 1602073.3750 - accuracy: 0.9474 - val_loss: 3403038.7500 - val_accuracy: 0.8952\n",
      "Epoch 10/10\n",
      "451/500 [==========================>...] - ETA: 0s - loss: 1432248.1250 - accuracy: 0.9494WARNING:tensorflow:Your input ran out of data; interrupting training. Make sure that your dataset or generator can generate at least `steps_per_epoch * epochs` batches (in this case, 5000 batches). You may need to use the repeat() function when building your dataset.\n",
      "500/500 [==============================] - 1s 3ms/step - loss: 1428110.7500 - accuracy: 0.9490 - val_loss: 3346896.7500 - val_accuracy: 0.9450\n"
     ]
    },
    {
     "data": {
      "text/plain": [
       "<keras.callbacks.History at 0x1eb1ea508e0>"
      ]
     },
     "execution_count": 19,
     "metadata": {},
     "output_type": "execute_result"
    }
   ],
   "source": [
    "deeper_model.fit(\n",
    "    X_train,y_train, \n",
    "    epochs=10, \n",
    "    steps_per_epoch=500,\n",
    "    shuffle=True,\n",
    "    validation_data=(X_test,y_test), \n",
    "    validation_steps=2)\n",
    "    \n",
    "    "
   ]
  },
  {
   "cell_type": "code",
   "execution_count": 20,
   "id": "40ebd27a",
   "metadata": {},
   "outputs": [],
   "source": [
    "preds_deeper_mod = (deeper_model.predict(X_test) > 0.5).astype(\"int32\")"
   ]
  },
  {
   "cell_type": "markdown",
   "id": "4f0c6479",
   "metadata": {},
   "source": [
    "# Model Evaluation"
   ]
  },
  {
   "cell_type": "code",
   "execution_count": 21,
   "id": "d49fa4db",
   "metadata": {},
   "outputs": [
    {
     "name": "stdout",
     "output_type": "stream",
     "text": [
      "Shallow Keras Sequantial AUC score:  0.5304870624048706\n",
      "'Deep' (3-Layer) Keras Sequantial AUC score:  0.5097260273972603\n"
     ]
    }
   ],
   "source": [
    "#compute eval metrics for shallow sequential model\n",
    "fpr_shallow, tpr_shallow, thresholds_shallow = metrics.roc_curve(y_test, preds_shallow_mod, pos_label=1)\n",
    "#comput eval metrics for tri-layer sequential model\n",
    "fpr_deep, tpr_deep, thresholds_deep = metrics.roc_curve(y_test, preds_deeper_mod, pos_label=1)\n",
    "\n",
    "#comput auc shallow model\n",
    "AUC_shallow = metrics.auc(fpr_shallow, tpr_shallow)\n",
    "\n",
    "#comput auc deep model\n",
    "AUC_deep = metrics.auc(fpr_deep, tpr_deep)\n",
    "\n",
    "print(f\"Shallow Keras Sequantial AUC score: \", AUC_shallow)\n",
    "print(f\"'Deep' (3-Layer) Keras Sequantial AUC score: \", AUC_deep)"
   ]
  },
  {
   "cell_type": "markdown",
   "id": "9a33e630",
   "metadata": {},
   "source": [
    "These low AUCs clearly indicate there's absolutely no need to apply a neural net on this simplistic dataset."
   ]
  },
  {
   "cell_type": "markdown",
   "id": "655989f2",
   "metadata": {},
   "source": [
    "# Benchmarking Performance  With Other Algos"
   ]
  },
  {
   "cell_type": "markdown",
   "id": "33f2afd6",
   "metadata": {},
   "source": [
    "## Logistic Regression:"
   ]
  },
  {
   "cell_type": "code",
   "execution_count": 22,
   "id": "bd96cfd3",
   "metadata": {
    "scrolled": true
   },
   "outputs": [
    {
     "name": "stdout",
     "output_type": "stream",
     "text": [
      "Sklearn Logistic Regression AUC score:  0.4992389649923896\n"
     ]
    },
    {
     "name": "stderr",
     "output_type": "stream",
     "text": [
      "C:\\tools\\Anaconda3\\envs\\py\\lib\\site-packages\\sklearn\\linear_model\\_logistic.py:814: ConvergenceWarning: lbfgs failed to converge (status=1):\n",
      "STOP: TOTAL NO. of ITERATIONS REACHED LIMIT.\n",
      "\n",
      "Increase the number of iterations (max_iter) or scale the data as shown in:\n",
      "    https://scikit-learn.org/stable/modules/preprocessing.html\n",
      "Please also refer to the documentation for alternative solver options:\n",
      "    https://scikit-learn.org/stable/modules/linear_model.html#logistic-regression\n",
      "  n_iter_i = _check_optimize_result(\n"
     ]
    }
   ],
   "source": [
    "lr_clf = LogisticRegression(random_state=1)\n",
    "\n",
    "y_preds_lr = lr_clf.fit(X_train,y_train).predict(X_test)\n",
    "\n",
    "fpr, tpr, thresholds = metrics.roc_curve(y_test, y_preds_lr, pos_label=1)\n",
    "\n",
    "AUC = metrics.auc(fpr, tpr)\n",
    "\n",
    "print(f\"Sklearn Logistic Regression AUC score: \", AUC)"
   ]
  },
  {
   "cell_type": "markdown",
   "id": "3f881e99",
   "metadata": {},
   "source": [
    "## Decision Tree Classifier"
   ]
  },
  {
   "cell_type": "code",
   "execution_count": 23,
   "id": "59476b8f",
   "metadata": {},
   "outputs": [
    {
     "name": "stdout",
     "output_type": "stream",
     "text": [
      "Sklearn Decision Tree Classifier AUC score:  0.6259208523592085\n"
     ]
    }
   ],
   "source": [
    "clf_tree = DecisionTreeClassifier(random_state=1)\n",
    "\n",
    "y_preds_tree = clf_tree.fit(X_train,y_train).predict(X_test)\n",
    "\n",
    "fpr, tpr, thresholds = metrics.roc_curve(y_test, y_preds_tree, pos_label=1)\n",
    "\n",
    "AUC = metrics.auc(fpr, tpr)\n",
    "\n",
    "print(f\"Sklearn Decision Tree Classifier AUC score: \", AUC)"
   ]
  },
  {
   "cell_type": "markdown",
   "id": "489f6288",
   "metadata": {},
   "source": [
    "## Random Forest Classifier"
   ]
  },
  {
   "cell_type": "code",
   "execution_count": null,
   "id": "124227bd",
   "metadata": {},
   "outputs": [],
   "source": [
    "clf_rf = RandomForestClassifier(n_estimators=200,max_depth=8, random_state=1)\n",
    "\n",
    "y_preds_rf = clf_rf.fit(X_train,y_train).predict(X_test)\n",
    "\n",
    "fpr, tpr, thresholds = metrics.roc_curve(y_test, y_preds_rf, pos_label=1)\n",
    "\n",
    "AUC = metrics.auc(fpr, tpr)\n",
    "\n",
    "print(f\"Sklearn Random Forest AUC score: \", AUC)"
   ]
  },
  {
   "cell_type": "markdown",
   "id": "dab81ce8",
   "metadata": {},
   "source": [
    "## Gaussian Naive Bayes"
   ]
  },
  {
   "cell_type": "code",
   "execution_count": null,
   "id": "6b32047c",
   "metadata": {
    "scrolled": true
   },
   "outputs": [],
   "source": [
    "clf_gaussian_nb = GaussianNB()\n",
    "\n",
    "y_preds_nb = clf_gaussian_nb.fit(X_train,y_train).predict(X_test)\n",
    "\n",
    "fpr, tpr, thresholds = metrics.roc_curve(y_test, y_preds_nb, pos_label=1)\n",
    "\n",
    "AUC = metrics.auc(fpr, tpr)\n",
    "\n",
    "print(f\"Sklearn Gaussian Naive Bayes AUC score: \", AUC)"
   ]
  },
  {
   "cell_type": "markdown",
   "id": "e5661cce",
   "metadata": {},
   "source": [
    "## AdaBoost "
   ]
  },
  {
   "cell_type": "code",
   "execution_count": null,
   "id": "8af0a32e",
   "metadata": {},
   "outputs": [],
   "source": [
    "clf_adaboost = AdaBoostClassifier(n_estimators=200, random_state=1)\n",
    "\n",
    "y_preds_adaboost = clf_adaboost.fit(X_train,y_train).predict(X_test)\n",
    "\n",
    "fpr, tpr, thresholds = metrics.roc_curve(y_test, y_preds_adaboost, pos_label=1)\n",
    "\n",
    "AUC = metrics.auc(fpr, tpr)\n",
    "\n",
    "print(f\"Sklearn Adaboost AUC score: \", AUC)"
   ]
  }
 ],
 "metadata": {
  "kernelspec": {
   "display_name": "Python 3 (ipykernel)",
   "language": "python",
   "name": "python3"
  },
  "language_info": {
   "codemirror_mode": {
    "name": "ipython",
    "version": 3
   },
   "file_extension": ".py",
   "mimetype": "text/x-python",
   "name": "python",
   "nbconvert_exporter": "python",
   "pygments_lexer": "ipython3",
   "version": "3.9.4"
  }
 },
 "nbformat": 4,
 "nbformat_minor": 5
}
